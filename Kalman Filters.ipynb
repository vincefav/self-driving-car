{
 "cells": [
  {
   "cell_type": "code",
   "execution_count": 6,
   "metadata": {
    "collapsed": false
   },
   "outputs": [
    {
     "name": "stdout",
     "output_type": "stream",
     "text": [
      "Populating the interactive namespace from numpy and matplotlib\n"
     ]
    }
   ],
   "source": [
    "import numpy as np\n",
    "import seaborn as sns\n",
    "% pylab inline\n",
    "\n",
    "# Updating parameters\n",
    "\n",
    "mu = 10\n",
    "sigma2 = 8\n",
    "\n",
    "nu = 13\n",
    "r2 = 2\n",
    "\n",
    "def update(mu=mu, sigma2=sigma2, nu=nu, r2=r2):\n",
    "    \n",
    "    prior = np.random.normal(loc=mu, scale=sigma2, size=10000)\n",
    "    measurement = np.random.normal(loc=nu, scale=r2, size=10000)\n",
    "\n",
    "    posterior_mean = ((r2 * mu) + (sigma2 * nu)) / (r2 + sigma2)\n",
    "\n",
    "    posterior_std = 1 / ((1/r2) + (1/sigma2))\n",
    "    \n",
    "    return posterior_mean, posterior_std"
   ]
  },
  {
   "cell_type": "code",
   "execution_count": 7,
   "metadata": {
    "collapsed": false
   },
   "outputs": [
    {
     "data": {
      "text/plain": [
       "(12.4, 1.6)"
      ]
     },
     "execution_count": 7,
     "metadata": {},
     "output_type": "execute_result"
    }
   ],
   "source": [
    "update()"
   ]
  },
  {
   "cell_type": "code",
   "execution_count": 8,
   "metadata": {
    "collapsed": false
   },
   "outputs": [
    {
     "name": "stdout",
     "output_type": "stream",
     "text": [
      "30.0406254339 6.97821051181\n"
     ]
    },
    {
     "data": {
      "text/plain": [
       "<matplotlib.axes._subplots.AxesSubplot at 0x20e2c1ad0f0>"
      ]
     },
     "execution_count": 8,
     "metadata": {},
     "output_type": "execute_result"
    },
    {
     "data": {
      "image/png": "[encoded data removed]",
      "text/plain": [
       "<matplotlib.figure.Figure at 0x20e21a93a58>"
      ]
     },
     "metadata": {},
     "output_type": "display_data"
    }
   ],
   "source": [
    "prior = np.random.normal(loc=20, scale=5, size=10000)\n",
    "movement = np.random.normal(loc=10, scale=2, size=10000)\n",
    "\n",
    "new_position = prior.mean() + movement.mean()\n",
    "new_variance = prior.std() + movement.std()\n",
    "\n",
    "print(new_position, new_variance)\n",
    "\n",
    "sns.distplot(prior)\n",
    "\n",
    "sns.distplot(np.random.normal(new_position, new_variance, size=10000))"
   ]
  },
  {
   "cell_type": "code",
   "execution_count": 9,
   "metadata": {
    "collapsed": true
   },
   "outputs": [],
   "source": [
    "# Cleaning it up"
   ]
  },
  {
   "cell_type": "code",
   "execution_count": 10,
   "metadata": {
    "collapsed": true
   },
   "outputs": [],
   "source": [
    "def predict(mean1, var1, mean2, var2):\n",
    "    '''Also called the time update, moving, or prediction step'''\n",
    "    new_mean = mean1 + mean2\n",
    "    new_var = var1 + var2\n",
    "    return new_mean, new_var"
   ]
  },
  {
   "cell_type": "code",
   "execution_count": 11,
   "metadata": {
    "collapsed": true
   },
   "outputs": [],
   "source": [
    "# Let's see this again\n",
    "\n",
    "def update(mu, sigma2, nu, r2):\n",
    "    '''measurement step'''\n",
    "    new_mean = ((r2 * mu) + (sigma2 * nu)) / (r2 + sigma2)\n",
    "\n",
    "    new_var = 1 / ((1/r2) + (1/sigma2))\n",
    "    \n",
    "    return new_mean, new_var"
   ]
  },
  {
   "cell_type": "code",
   "execution_count": 12,
   "metadata": {
    "collapsed": true
   },
   "outputs": [],
   "source": [
    "measurements = np.array([5., 6., 7., 9., 10.])\n",
    "measurements_var = 4.\n",
    "\n",
    "motion = np.array([1., 1., 2., 1., 1.])\n",
    "motion_var = 2\n",
    "\n",
    "mu = 0\n",
    "sig = 100"
   ]
  },
  {
   "cell_type": "code",
   "execution_count": 16,
   "metadata": {
    "collapsed": false
   },
   "outputs": [
    {
     "name": "stdout",
     "output_type": "stream",
     "text": [
      "measurement:\t\t 8.09667242079 2.0000000013148083\n",
      "moves then predicts:\t 9.09667242079 4.000000001314808\n",
      "\n",
      "measurement:\t\t 7.54833621014 2.000000000328702\n",
      "moves then predicts:\t 8.54833621014 4.000000000328702\n",
      "\n",
      "measurement:\t\t 7.77416810504 2.0000000000821756\n",
      "moves then predicts:\t 9.77416810504 4.000000000082176\n",
      "\n",
      "measurement:\t\t 9.38708405252 2.000000000020544\n",
      "moves then predicts:\t 10.3870840525 4.000000000020544\n",
      "\n",
      "measurement:\t\t 10.1935420263 2.000000000005136\n",
      "moves then predicts:\t 11.1935420263 4.0000000000051354\n",
      "\n"
     ]
    }
   ],
   "source": [
    "for i in range(len(measurements)):\n",
    "    mu, sig = update(mu, sig, measurements[i], measurements_var)\n",
    "    print('measurement:\\t\\t', mu, sig)\n",
    "    mu, sig = predict(mu, sig, motion[i], motion_var)\n",
    "    print('moves then predicts:\\t', mu, sig)\n",
    "    print()"
   ]
  },
  {
   "cell_type": "code",
   "execution_count": null,
   "metadata": {
    "collapsed": true
   },
   "outputs": [],
   "source": []
  }
 ],
 "metadata": {
  "anaconda-cloud": {},
  "kernelspec": {
   "display_name": "Python [default]",
   "language": "python",
   "name": "python3"
  },
  "language_info": {
   "codemirror_mode": {
    "name": "ipython",
    "version": 3
   },
   "file_extension": ".py",
   "mimetype": "text/x-python",
   "name": "python",
   "nbconvert_exporter": "python",
   "pygments_lexer": "ipython3",
   "version": "3.5.2"
  }
 },
 "nbformat": 4,
 "nbformat_minor": 1
}
